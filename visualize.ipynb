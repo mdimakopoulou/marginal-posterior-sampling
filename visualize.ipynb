{
 "cells": [
  {
   "cell_type": "code",
   "execution_count": null,
   "id": "46c08c3e",
   "metadata": {
    "nterop": {
     "id": "1"
    }
   },
   "outputs": [],
   "source": [
    "from itertools import product\n",
    "import matplotlib.pyplot as plt\n",
    "import numpy as np\n",
    "import os\n",
    "\n",
    "horizon = 50000\n",
    "simulation_count = 1000\n",
    "regularization_parameter = 10\n",
    "agent_types = [\"LogisticRegressionTSAgent\", \"MarginalPosteriorTSAgent\", \"IndependentBernoulliArmsTSAgent\"]\n",
    "names = [\"GLM\", \"MPS\", \"Bernoulli\"]\n",
    "markers = ['^', 'o', 's']\n",
    "\n",
    "ell = 2\n",
    "for m, add in product([2, 3, 4, 5], [True, False]):\n",
    "  output_prefixes = [\"SLOT{}LEVEL{}_ADD{}\".format(ell, m, add)] * len(agent_types)\n",
    "  \n",
    "  try:\n",
    "    filename = \"Results/{}_{}_H{}_S{}{}\".format(output_prefixes[1], agent_types[1], \n",
    "                                                horizon, simulation_count, \"\")\n",
    "    regret = np.load(\"{}_Regret.npy\".format(filename))\n",
    "  except FileNotFoundError:\n",
    "    continue\n",
    "    \n",
    "  fontsize=18\n",
    "  fig = plt.figure(figsize=(8, 6))\n",
    "  for i in range(len(agent_types)):\n",
    "    agent_type = agent_types[i]\n",
    "    output_prefix = output_prefixes[i]\n",
    "    parameters = \"\"\n",
    "    if (\"LogisticRegressionTSAgent\" in agent_type or \"LogisticRegressionUCBAgent\" in agent_type):\n",
    "      parameters = \"_R{}\".format(regularization_parameter)\n",
    "    filename = \"Results/{}_{}_H{}_S{}{}\".format(output_prefix, agent_type, horizon, simulation_count, \n",
    "                                                parameters)\n",
    "\n",
    "    regret = np.load(\"{}_Regret.npy\".format(filename))\n",
    "    regret_sd = np.sqrt(np.load(\"{}_RegretVar.npy\".format(filename)) / simulation_count)\n",
    "    regret_low = regret - regret_sd\n",
    "    regret_high = regret + regret_sd\n",
    "    plt.plot(range(horizon), np.cumsum(regret), label=names[i], marker=markers[i], markersize=10, \n",
    "             markevery=5000)\n",
    "    plt.fill_between(range(horizon), np.cumsum(regret_low), np.cumsum(regret_high), alpha=0.4)\n",
    "\n",
    "  plt.xlabel('t', fontsize=22)\n",
    "  plt.ylabel('E[Cumulative Regret]', fontsize=22)\n",
    "  plt.legend(fontsize=22)\n",
    "  plt.title(r\"$\\ell$={} slots, $m$={}\".format(ell, m) + \" actions per slot\\n{}\"\n",
    "            .format(\"Additive Link Function\" if add else \"Non-Additive Link Function\"), fontsize=22)\n",
    "  plt.tick_params(labelsize=16)\n",
    "  if not os.path.exists(\"Figures/\"):\n",
    "        os.makedirs(\"Figures/\")\n",
    "  plt.savefig(\"Figures/SLOT{}LEVEL{}_ADD{}.jpg\".format(ell, m, add), dpi=200, bbox_inches='tight')\n",
    "  plt.show()\n",
    "\n",
    "  total_regret = []\n",
    "  for i in range(len(agent_types)):\n",
    "    agent_type = agent_types[i]\n",
    "    output_prefix = output_prefixes[i]\n",
    "    parameters = \"\"\n",
    "    if (\"LogisticRegressionTSAgent\" in agent_type or \"LogisticRegressionUCBAgent\" in agent_type):\n",
    "      parameters = \"_R{}\".format(regularization_parameter)\n",
    "    filename = \"Results/{}_{}_H{}_S{}{}\".format(output_prefix, agent_type, horizon, simulation_count, \n",
    "                                                parameters)\n",
    "\n",
    "    regret = np.load(\"{}_Regret.npy\".format(filename))\n",
    "    total_regret.append(np.sum(regret))\n",
    "  print(\"l={} slots, m={} actions per slot, {} link function\"\n",
    "        .format(ell, m, \"additive\" if add else \"non-additive\") \n",
    "          + \": MPS is {}% better than GLM\"\n",
    "          .format(np.round(100 * (total_regret[0] - total_regret[1]) / total_regret[0], 2)))\n",
    "  \n",
    "  "
   ]
  },
  {
   "cell_type": "code",
   "execution_count": null,
   "id": "fda8388e",
   "metadata": {
    "nterop": {
     "id": "11"
    }
   },
   "outputs": [],
   "source": []
  }
 ],
 "metadata": {
  "hide_input": false,
  "kernelspec": {
   "display_name": "Python 3",
   "language": "python",
   "name": "python3"
  },
  "language_info": {
   "codemirror_mode": {
    "name": "ipython",
    "version": 3
   },
   "file_extension": ".py",
   "mimetype": "text/x-python",
   "name": "python",
   "nbconvert_exporter": "python",
   "pygments_lexer": "ipython3",
   "version": "3.7.10"
  },
  "nterop": {
   "seedId": "11"
  }
 },
 "nbformat": 4,
 "nbformat_minor": 5
}
